{
  "cells": [
    {
      "cell_type": "markdown",
      "id": "3797251c",
      "metadata": {
        "id": "3797251c"
      },
      "source": [
        "[![Open In Colab](https://colab.research.google.com/assets/colab-badge.svg)](\n",
        "https://colab.research.google.com/github/blhuillier/Olympiades/blob/main/Data/run_MCMC.ipynb\n",
        ")"
      ]
    },
    {
      "cell_type": "markdown",
      "id": "94f29899",
      "metadata": {
        "id": "94f29899"
      },
      "source": [
        "# Analyse finale SNIa + BAO\n",
        "Dans ce notebook, nous allons analyser les données SNIa de Pantheon+ et BAO de DESI DR2. \n",
        "\n",
        "Pour chaque combinaison de données (SNIa, BAO, SNIa+BAO), nous allons : \n",
        "1. Calculer le \"meilleur modèle\"  \n",
        "2. Lancer un MCMC pour explorer l'espace des paramètres  \n",
        "3. Tracer les \"Probabilités posterieures\" $P(Paramètres | Données)"
      ]
    },
    {
      "cell_type": "markdown",
      "id": "f6647997",
      "metadata": {},
      "source": [
        "## Rappels théoriques: "
      ]
    },
    {
      "cell_type": "markdown",
      "id": "2ab542d5",
      "metadata": {},
      "source": [
        "### Pour les Supernovae: \n",
        "\n",
        "$$\\mu = m_B - M_B = 5 \\log_{10}\\left(\\frac{d_L(z)}{1\\,\\mathrm{Mpc}} +25\\right),$$\n",
        "où $m_B$ est la ''magnitude apparente'' (observée), $M_B$ est la ''magnitude absolue'' (supposée la même pour toutes les SNIa). \n",
        "La distance $d_L(z)$ dépend elle-même des paramètres cosmologiques $(\\Omega_m, \\Omega_k)$. \n"
      ]
    },
    {
      "cell_type": "markdown",
      "id": "4b86f969",
      "metadata": {
        "id": "4b86f969"
      },
      "source": [
        "## Pour les BAO: \n",
        "\n",
        "DM is the comoving distance $$d_M(z)$$  \n",
        "DH is the ``Hubble distance'' $$d_H = \\frac c {H(z)}$$\n",
        "DV is the spherically-averaged distance: $$D_V(z) = (zD_M(z)^2d_H(z))^{1/3}$$\n",
        "\n",
        "$r_d$ est l'horizon sonore à l'époque du découplage. Sa valeur **exacte** est inconnue, on **marginalise** par rapport à ce paramètre. En toute rigueur, il faudrait la calculer pour chaque choix de paramètres cosmologiques. "
      ]
    },
    {
      "cell_type": "code",
      "execution_count": null,
      "id": "d434694b",
      "metadata": {
        "colab": {
          "base_uri": "https://localhost:8080/"
        },
        "id": "d434694b",
        "outputId": "60df3257-54dc-4c0c-97d5-bfb00cfe34f0"
      },
      "outputs": [],
      "source": [
        "import numpy as np\n",
        "import pandas as pd\n",
        "from astropy import constants as c, units as u\n",
        "from astropy.cosmology import LambdaCDM\n",
        "import matplotlib.pyplot as plt\n",
        "from scipy.optimize import differential_evolution\n",
        "from astropy.constants import c as clight\n",
        "import matplotlib.colors as mcolors\n",
        "# import emcee, install it if it is not already installed\n",
        "try:\n",
        "  import emcee\n",
        "except:\n",
        "  !pip install emcee\n",
        "  import emcee\n",
        "\n",
        "try:\n",
        "  from chainconsumer import Chain, ChainConfig, ChainConsumer, PlotConfig, Truth, make_sample\n",
        "except:\n",
        "  !pip install chainconsumer\n",
        "  from chainconsumer import Chain, ChainConfig, ChainConsumer, PlotConfig, Truth, make_sample\n",
        "\n"
      ]
    },
    {
      "cell_type": "code",
      "execution_count": null,
      "id": "qBi-_BLoo3f6",
      "metadata": {
        "id": "qBi-_BLoo3f6"
      },
      "outputs": [],
      "source": [
        "do_SN = True\n",
        "do_BAO = True\n",
        "do_MCMC = True\n",
        "do_all = True\n",
        "\n",
        "\n",
        "print(mcolors.CSS4_COLORS[\"crimson\"])  # Output: #DC143C\n",
        "col_all = mcolors.CSS4_COLORS[\"crimson\"]\n",
        "col_bao = 'indigo'\n",
        "col_sn = 'cyan'\n"
      ]
    },
    {
      "cell_type": "code",
      "execution_count": null,
      "id": "be7cb9e1",
      "metadata": {
        "id": "be7cb9e1"
      },
      "outputs": [],
      "source": [
        "# Sound Horizon at drag epoch -- the physical size of the BAO\n",
        "rd = 147.1 * u.Mpc\n",
        "clight = c.c.to(u.km/u.s) # speed of light in km/s"
      ]
    },
    {
      "cell_type": "code",
      "execution_count": null,
      "id": "5bb9800d",
      "metadata": {
        "id": "5bb9800d"
      },
      "outputs": [],
      "source": [
        "# Define a list of colors:\n",
        "colors = plt.rcParams['axes.prop_cycle'].by_key()['color']"
      ]
    },
    {
      "cell_type": "markdown",
      "id": "56f71f21",
      "metadata": {
        "id": "56f71f21"
      },
      "source": [
        "## 📥 Chargement des données DESI\n"
      ]
    },
    {
      "cell_type": "code",
      "execution_count": null,
      "id": "c45bb108",
      "metadata": {
        "id": "c45bb108"
      },
      "outputs": [],
      "source": [
        "df = pd.read_csv(\"https://raw.githubusercontent.com/blhuillier/Olympiades/refs/heads/main/Data/DESI_DR2.csv\")"
      ]
    },
    {
      "cell_type": "code",
      "execution_count": null,
      "id": "8085c26a",
      "metadata": {
        "colab": {
          "base_uri": "https://localhost:8080/",
          "height": 332
        },
        "id": "8085c26a",
        "outputId": "603b1646-7d5e-4854-83be-da7ead98699e"
      },
      "outputs": [],
      "source": [
        "df"
      ]
    },
    {
      "cell_type": "markdown",
      "id": "f2U0AGmMVlF9",
      "metadata": {
        "id": "f2U0AGmMVlF9"
      },
      "source": [
        "# SNIa"
      ]
    },
    {
      "cell_type": "code",
      "execution_count": null,
      "id": "dQjdfES8VnXL",
      "metadata": {
        "id": "dQjdfES8VnXL"
      },
      "outputs": [],
      "source": [
        "\n",
        "\n",
        "class PantheonPlus:\n",
        "    def __init__(self):\n",
        "        # Load data\n",
        "        url_data = (\n",
        "            \"https://raw.githubusercontent.com/PantheonPlusSH0ES/DataRelease/\"\n",
        "            \"refs/heads/main/Pantheon%2B_Data/4_DISTANCES_AND_COVAR/Pantheon%2BSH0ES.dat\"\n",
        "        )\n",
        "        url_cov = (\n",
        "            \"https://raw.githubusercontent.com/PantheonPlusSH0ES/DataRelease/\"\n",
        "            \"refs/heads/main/Pantheon%2B_Data/4_DISTANCES_AND_COVAR/Pantheon%2BSH0ES_STAT%2BSYS.cov\"\n",
        "        )\n",
        "\n",
        "        df = pd.read_csv(url_data, delimiter=r'\\s+')\n",
        "        cov = np.loadtxt(url_cov)\n",
        "        n = int(cov[0])\n",
        "        cov = cov[1:].reshape((n, n))\n",
        "\n",
        "        # Select zHD > 0.01\n",
        "        mask = df['zHD'] > 0.01\n",
        "        df = df.loc[mask]\n",
        "        cov = cov[mask.values][:, mask.values]\n",
        "\n",
        "        # Keep only z and m_b_corr\n",
        "        self.z = df['zHD'].values\n",
        "        self.mB = df['m_b_corr'].values\n",
        "        self.icov = np.linalg.inv(cov)\n",
        "\n",
        "    def chi2(self, mB_th):\n",
        "        \"\"\"\n",
        "        Compute chi2 = (mB - mB_th)^T @ C^{-1} @ (mB - mB_th)\n",
        "        \"\"\"\n",
        "        delta = self.mB - mB_th\n",
        "        return delta @ self.icov @ delta\n",
        "\n",
        "\n",
        "pantheon = PantheonPlus()"
      ]
    },
    {
      "cell_type": "markdown",
      "id": "947934e1",
      "metadata": {
        "id": "947934e1"
      },
      "source": [
        "# Class BAO"
      ]
    },
    {
      "cell_type": "code",
      "execution_count": null,
      "id": "ba0060c6",
      "metadata": {
        "id": "ba0060c6"
      },
      "outputs": [],
      "source": [
        "\n",
        "\n",
        "class DESI_DR2:\n",
        "    def __init__(self):\n",
        "        self.df = pd.read_csv(\"https://raw.githubusercontent.com/blhuillier/Olympiades/refs/heads/main/Data/DESI_DR2.csv\")\n",
        "\n",
        "        # Boolean mask\n",
        "        is_aniso = np.isfinite(df['DM/rd'].values)\n",
        "        self.is_anisotropic = is_aniso\n",
        "        self.nanisotropic = np.sum(is_aniso)\n",
        "        self.nisotropic = np.sum(~is_aniso)\n",
        "\n",
        "        # Isotropic bins (for dV only)\n",
        "        df_iso = df[~is_aniso]\n",
        "        self.zdV = df_iso['z_eff'].values\n",
        "        self.dV_rd = df_iso['DV/rd'].values\n",
        "        self.err_dV_rd = df_iso['err_DV/rd'].values\n",
        "\n",
        "        # Anisotropic bins (for dM and dH)\n",
        "        df_ani = df[is_aniso]\n",
        "        self.zani = df_ani['z_eff'].values\n",
        "        self.dM_rd = df_ani['DM/rd'].values\n",
        "        self.err_dM_rd = df_ani['err_DM/rd'].values\n",
        "        self.dH_rd = df_ani['DH/rd'].values\n",
        "        self.err_dH_rd = df_ani['err_DH/rd'].values\n",
        "        self.rho = df_ani['rM,H'].values\n",
        "\n",
        "        # Precompute inverse covariances for anisotropic bins\n",
        "        self.inv_cov = np.zeros((self.nanisotropic, 2, 2))\n",
        "        for i in range(self.nanisotropic):\n",
        "            sigM = self.err_dM_rd[i]\n",
        "            sigH = self.err_dH_rd[i]\n",
        "            r = self.rho[i]\n",
        "            det = (sigM * sigH)**2 * (1 - r**2)\n",
        "            self.inv_cov[i] = (1 / det) * np.array([\n",
        "                [sigH**2, -r * sigM * sigH],\n",
        "                [-r * sigM * sigH, sigM**2]\n",
        "            ])\n",
        "\n",
        "    def chi2_anisotropic(self, dM_th, dH_th):\n",
        "        chi2 = 0.0\n",
        "\n",
        "        # Anisotropic contribution\n",
        "        for i in range(self.nanisotropic):\n",
        "            dy = np.array([\n",
        "                self.dM_rd[i] - dM_th[i],\n",
        "                self.dH_rd[i] - dH_th[i]\n",
        "            ])\n",
        "            chi2 += dy.T @ self.inv_cov[i] @ dy\n",
        "        return chi2\n",
        "\n",
        "    def chi2_isotropic(self,dV_th):\n",
        "      chi2 = 0.0\n",
        "      # Isotropic contribution\n",
        "      for i in range(self.nisotropic):\n",
        "          dy = self.dV_rd[i] - dV_th[i]\n",
        "          chi2 += (dy / self.err_dV_rd[i])**2\n",
        "\n",
        "      return chi2\n",
        "\n",
        "bao = DESI_DR2()\n"
      ]
    },
    {
      "cell_type": "code",
      "execution_count": null,
      "id": "WtqeES3mRkDp",
      "metadata": {
        "id": "WtqeES3mRkDp"
      },
      "outputs": [],
      "source": [
        "\n",
        "\n"
      ]
    },
    {
      "cell_type": "code",
      "execution_count": null,
      "id": "I-diKy3rQf3L",
      "metadata": {
        "id": "I-diKy3rQf3L"
      },
      "outputs": [],
      "source": [
        "from functools import singledispatch\n",
        "def get_chi2(theta,bao=None,snia=None):\n",
        "  '''\n",
        "  theta = Om0,Ok0,rd,MB\n",
        "  '''\n",
        "  chi2 = 0.\n",
        "  Om0, Ok0 = theta[:2]\n",
        "  thiscosmo = LambdaCDM(H0=70, Om0=Om0, Ode0=1-Om0-Ok0)\n",
        "\n",
        "  if bao is not None:\n",
        "    rd = theta[2] \n",
        "    ziso = bao.zdV\n",
        "    dVrdth = (ziso * thiscosmo.comoving_transverse_distance(ziso)**2 * clight / (thiscosmo.H(ziso))).value**(1./3.) / rd\n",
        "    \n",
        "    chi2iso = bao.chi2_isotropic(dVrdth)\n",
        "    chi2 += chi2iso\n",
        "    zani = bao.zani\n",
        "    dMrdth = (thiscosmo.comoving_transverse_distance(zani) / rd).value\n",
        "    dHrdth = (clight / (thiscosmo.H(zani) * rd)).value\n",
        "    chi2aniso = bao.chi2_anisotropic(dMrdth,dHrdth)\n",
        "    chi2 += chi2aniso\n",
        "  if snia is not None:\n",
        "    MB = theta[-1]\n",
        "    mBth = thiscosmo.distmod(snia.z).value + MB\n",
        "    chi2 += snia.chi2(mBth)\n",
        "  return chi2\n",
        "\n",
        "\n",
        "def lnpi(theta,bounds,bao,snia):\n",
        "  res = 0.\n",
        "  Om0, Ok0 = theta[:2]\n",
        "  if not (bounds['Om0'][0]<Om0<bounds['Om0'][1]):\n",
        "    return -np.inf\n",
        "  if not (bounds['Ok0'][0]<Ok0<bounds['Ok0'][1]):\n",
        "    return -np.inf\n",
        "  if bao is not None:\n",
        "    rd = theta[2]\n",
        "    if not (bounds['rd'][0]<rd<bounds['rd'][1]):\n",
        "      return -np.inf\n",
        "  if snia is not None:\n",
        "    MB = theta[-1]\n",
        "    if not (bounds['MB'][0]<MB<bounds['MB'][1]):\n",
        "      return -np.inf\n",
        "  return res\n",
        "\n",
        "def lnlog(theta,bao,snia):\n",
        "  return -0.5*get_chi2(theta,bao,snia)\n",
        "\n",
        "def lnP (theta,bounds,bao,snia):\n",
        "  logpi = lnpi(theta,bounds,bao,snia)\n",
        "  if np.isfinite(logpi):\n",
        "    return logpi + lnlog(theta,bao,snia)\n",
        "  else:\n",
        "    return -np.inf\n",
        "\n"
      ]
    },
    {
      "cell_type": "markdown",
      "id": "atHq1xHqQ_s6",
      "metadata": {
        "id": "atHq1xHqQ_s6"
      },
      "source": [
        "# SNIa seulement"
      ]
    },
    {
      "cell_type": "code",
      "execution_count": null,
      "id": "Ingz_U9aQiip",
      "metadata": {
        "colab": {
          "base_uri": "https://localhost:8080/"
        },
        "id": "Ingz_U9aQiip",
        "outputId": "46ef5fd2-bd30-4835-891a-df484e8bcc25"
      },
      "outputs": [],
      "source": [
        "# find best fit\n",
        "\n",
        "if do_SN:\n",
        "  bounds = ((.1,1),(-.2,.5),(-25,-15))\n",
        "  res_sn = differential_evolution(\n",
        "      get_chi2,\n",
        "      bounds=bounds,\n",
        "      args=(None,pantheon)\n",
        "  )\n",
        "\n",
        "\n",
        "  print (res_sn)"
      ]
    },
    {
      "cell_type": "code",
      "execution_count": null,
      "id": "EuqPU_Ywy8k0",
      "metadata": {
        "colab": {
          "base_uri": "https://localhost:8080/"
        },
        "id": "EuqPU_Ywy8k0",
        "outputId": "336f363e-eb41-4a24-abd2-d54fc7817924"
      },
      "outputs": [],
      "source": [
        "if do_SN:\n",
        "  ndim = len(res_sn.x)\n",
        "  # initialize\n",
        "  nwalkers = 12\n",
        "  niter = 5000\n",
        "  # p0 = res_sn.x[:,np.newaxis] * np.random.normal(1,0.1,(ndim,nwalkers))\n",
        "  p0 = res_sn.x[np.newaxis,:] * np.random.normal(1,0.1,(nwalkers,ndim))\n",
        "\n",
        "  dic_bounds = {\n",
        "      'Om0': (.1,1),\n",
        "      'Ok0': (-.1,5),\n",
        "      'rd': (100,200),\n",
        "      'MB': (-25,-15)\n",
        "  }\n",
        "  sampler_snia = emcee.EnsembleSampler(nwalkers=nwalkers,ndim=ndim , log_prob_fn=lnP, args=(dic_bounds,None,pantheon), )\n",
        "  sampler_snia.run_mcmc(p0, niter, progress=True);\n",
        "\n",
        "\n"
      ]
    },
    {
      "cell_type": "code",
      "execution_count": null,
      "id": "-cmt9y-r1Y5g",
      "metadata": {
        "colab": {
          "base_uri": "https://localhost:8080/",
          "height": 871
        },
        "id": "-cmt9y-r1Y5g",
        "outputId": "348916db-dd26-4ff6-e3d3-e071dc119ae8"
      },
      "outputs": [],
      "source": [
        "if do_SN:\n",
        "\n",
        "    # Define parameter names (match order in theta)\n",
        "    params_snia = [r\"$\\Omega_m$\", r\"$\\Omega_k$\", r\"$M_B$\"] #  r\"$r_d$\",\n",
        "\n",
        "    chain_snia = Chain.from_emcee(sampler_snia, params_snia[:2], \"SNIa\", discard=200, thin=2, color=col_sn)\n",
        "    c = ChainConsumer().add_chain(chain_snia)\n",
        "    # Only show selected parameters (e.g., hide r_d)\n",
        "    truth_sn = Truth(\n",
        "        location = {param: val for param,val in zip(params_snia,res_sn.x)},\n",
        "        color=col_sn\n",
        "    )\n",
        "    c.add_truth(truth_sn)\n",
        "    fig=c.plotter.plot()\n"
      ]
    },
    {
      "cell_type": "markdown",
      "id": "8UGLiStgRCCI",
      "metadata": {
        "id": "8UGLiStgRCCI"
      },
      "source": [
        "# BAO Seulement\n"
      ]
    },
    {
      "cell_type": "code",
      "execution_count": null,
      "id": "ugcWQBBaRDAz",
      "metadata": {
        "colab": {
          "base_uri": "https://localhost:8080/"
        },
        "id": "ugcWQBBaRDAz",
        "outputId": "b5bd3b3e-60bd-4b0c-fe0e-e04ae36b6fcc"
      },
      "outputs": [],
      "source": [
        "# find best fit\n",
        "bounds = ((.1,1),(-.2,.5),(100,200))\n",
        "res_bao = differential_evolution(\n",
        "    get_chi2,\n",
        "    bounds=bounds,\n",
        "    args=(bao,None)\n",
        ")\n",
        "\n",
        "\n",
        "print (res_bao)"
      ]
    },
    {
      "cell_type": "code",
      "execution_count": null,
      "id": "1999ba26",
      "metadata": {},
      "outputs": [],
      "source": [
        "if do_BAO:\n",
        "  ndim = len(res_bao.x)\n",
        "  # initialize\n",
        "  nwalkers = 12\n",
        "  niter = 5000\n",
        "  # p0 = res_sn.x[:,np.newaxis] * np.random.normal(1,0.1,(ndim,nwalkers))\n",
        "  p0 = res_bao.x[np.newaxis,:] * np.random.normal(1,0.1,(nwalkers,ndim))\n",
        "\n",
        "  dic_bounds = {\n",
        "      'Om0': (.1,1),\n",
        "      'Ok0': (-.1,5),\n",
        "      'rd': (100,200),\n",
        "      'MB': (-25,-15)\n",
        "  }\n",
        "  sampler_bao = emcee.EnsembleSampler(nwalkers=nwalkers,ndim=ndim , log_prob_fn=lnP, args=(dic_bounds,bao,None), )\n",
        "  sampler_bao.run_mcmc(p0, niter, progress=True);\n",
        "\n",
        "\n"
      ]
    },
    {
      "cell_type": "code",
      "execution_count": null,
      "id": "4fd712f0",
      "metadata": {},
      "outputs": [],
      "source": [
        "if do_BAO:\n",
        "\n",
        "    # Define parameter names (match order in theta)\n",
        "    params_bao = [r\"$\\Omega_m$\", r\"$\\Omega_k$\", r\"$r_d$\"] #  r\"$r_d$\",\n",
        "\n",
        "    chain_bao = Chain.from_emcee(sampler_bao, params_bao[:2], \"BAO\", discard=200, thin=2, color=col_bao)\n",
        "    c = ChainConsumer().add_chain(chain_bao)\n",
        "\n",
        "    # Only show selected parameters (e.g., hide r_d)\n",
        "    truth_bao = Truth(\n",
        "        location = {param: val for param,val in zip(params_bao,res_bao.x)},\n",
        "        color=col_bao\n",
        "    )\n",
        "    c.add_truth(truth_bao)\n",
        "    fig=c.plotter.plot()"
      ]
    },
    {
      "cell_type": "markdown",
      "id": "89nuYmPbRDlX",
      "metadata": {
        "id": "89nuYmPbRDlX"
      },
      "source": [
        "# SNIa + BAO"
      ]
    },
    {
      "cell_type": "code",
      "execution_count": null,
      "id": "ZzezCMukREs7",
      "metadata": {
        "colab": {
          "base_uri": "https://localhost:8080/",
          "height": 1000
        },
        "id": "ZzezCMukREs7",
        "outputId": "7bc2b4b4-403e-42cb-bf17-42282006b11e"
      },
      "outputs": [],
      "source": [
        "if do_all: \n",
        "    # find best fit\n",
        "    bounds = ((.1,1),(-.2,.5),(100,200),(-25,-15))\n",
        "    res_all = differential_evolution(\n",
        "        get_chi2,\n",
        "        bounds=bounds,\n",
        "        args=(bao,pantheon)\n",
        "    )\n",
        "\n",
        "\n",
        "    print (res_all)\n"
      ]
    },
    {
      "cell_type": "code",
      "execution_count": null,
      "id": "8deJd3nlmuZv",
      "metadata": {
        "id": "8deJd3nlmuZv"
      },
      "outputs": [],
      "source": [
        "if do_all:\n",
        "  ndim = len(res_all.x)\n",
        "  # initialize\n",
        "  nwalkers = 12\n",
        "  niter = 5000\n",
        "  # p0 = res_sn.x[:,np.newaxis] * np.random.normal(1,0.1,(ndim,nwalkers))\n",
        "  p0 = res_all.x[np.newaxis,:] * np.random.normal(1,0.1,(nwalkers,ndim))\n",
        "\n",
        "  sampler_all = emcee.EnsembleSampler(nwalkers=nwalkers,ndim=ndim , log_prob_fn=lnP, args=(dic_bounds,bao,pantheon), )\n",
        "  sampler_all.run_mcmc(p0, niter, progress=True);\n",
        "\n",
        "\n"
      ]
    },
    {
      "cell_type": "code",
      "execution_count": null,
      "id": "800fc1e8",
      "metadata": {},
      "outputs": [],
      "source": [
        "if do_all:\n",
        "\n",
        "    # Define parameter names (match order in theta)\n",
        "    params_all = [r\"$\\Omega_m$\", r\"$\\Omega_k$\", r\"$r_d$\",r\"$M_B$\"] \n",
        "\n",
        "    chain_all = Chain.from_emcee(sampler_all, params_bao[:2], \"BAO+SNIa\", discard=200, thin=2,color=col_all)\n",
        "    c = ChainConsumer().add_chain(chain_all)\n",
        "    truth_all = Truth(\n",
        "        location = {param: val for param,val in zip(params_all,res_all.x)},\n",
        "        color=col_all\n",
        "    )\n",
        "    c.add_truth(truth_all)\n",
        "    fig=c.plotter.plot()"
      ]
    },
    {
      "cell_type": "markdown",
      "id": "4923298e",
      "metadata": {},
      "source": [
        "# Combine chains\n",
        "\n",
        "On peut maintenant combiner les differentes chaines : "
      ]
    },
    {
      "cell_type": "code",
      "execution_count": null,
      "id": "c519bfc2",
      "metadata": {},
      "outputs": [],
      "source": [
        "if do_all:\n",
        "\n",
        "  c = ChainConsumer()\n",
        "  if do_BAO: \n",
        "    c.add_chain(chain_bao)\n",
        "  if do_SN:\n",
        "    c.add_chain(chain_snia)\n",
        "  c.add_chain(chain_all)\n",
        "  c.add_truth(truth_bao)\n",
        "  c.add_truth(truth_sn)\n",
        "  c.add_truth(truth_all)\n",
        "  fig=c.plotter.plot()"
      ]
    },
    {
      "cell_type": "code",
      "execution_count": null,
      "id": "64bf8d50",
      "metadata": {},
      "outputs": [],
      "source": []
    }
  ],
  "metadata": {
    "colab": {
      "provenance": []
    },
    "kernelspec": {
      "display_name": "base",
      "language": "python",
      "name": "python3"
    },
    "language_info": {
      "codemirror_mode": {
        "name": "ipython",
        "version": 3
      },
      "file_extension": ".py",
      "mimetype": "text/x-python",
      "name": "python",
      "nbconvert_exporter": "python",
      "pygments_lexer": "ipython3",
      "version": "3.11.0"
    }
  },
  "nbformat": 4,
  "nbformat_minor": 5
}
